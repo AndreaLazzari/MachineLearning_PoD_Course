{
 "cells": [
  {
   "cell_type": "markdown",
   "metadata": {},
   "source": [
    "# Kuzushiji Classification with Support Vector Machines\n",
    "\n",
    "In this notebook we are going to explore the use of Support Vector Machines (SVM) for image classification. We will use a variant of the famous MNIST dataset (the original is a dataset of handwritten digits). The version we are going to use is called Kuzushiji-MNIST or K-MNIST for short (https://github.com/rois-codh/kmnist) and is a dataset of traditional japanese handwritten kana.\n",
    "\n",
    "\n",
    "\n",
    "The dataset labels are the following:\n",
    "\n",
    "| Label | Hiragana Character | Romanji (Pronunciation) |\n",
    "| :-: | :-: | :-: |\n",
    "|   0   | お | o |\n",
    "| 1 | き | ki |\n",
    "| 2 | す | su |\n",
    "| 3 | つ | tsu |\n",
    "| 4 | な | na |\n",
    "| 5 | は | ha |\n",
    "| 6 | ま | ma |\n",
    "| 7 | や | ya |\n",
    "| 8 | れ | re |\n",
    "| 9 | を | wo |"
   ]
  },
  {
   "cell_type": "markdown",
   "metadata": {},
   "source": [
    "## TODO: Insert your surname, name and ID number\n",
    "\n",
    "Student surname: Lazzari\n",
    "\n",
    "Student name: Andrea\n",
    "    \n",
    "ID: 2045247"
   ]
  },
  {
   "cell_type": "code",
   "execution_count": 1,
   "metadata": {},
   "outputs": [],
   "source": [
    "#load the required packages\n",
    "\n",
    "%matplotlib inline  \n",
    "\n",
    "import numpy as np\n",
    "import scipy as sp\n",
    "import matplotlib.pyplot as plt\n",
    "import pandas as pd                 #to return easily results\n",
    "\n",
    "import sklearn\n",
    "from sklearn.datasets import fetch_openml\n",
    "from sklearn.neural_network import MLPClassifier\n",
    "from sklearn.decomposition import PCA\n",
    "import sklearn.metrics as skm"
   ]
  },
  {
   "cell_type": "code",
   "execution_count": 2,
   "metadata": {},
   "outputs": [],
   "source": [
    "# helper function to load Kuzushiji-MNIST dataset\n",
    "\n",
    "def load_mnist(path, kind='train'):\n",
    "    import os\n",
    "    import gzip\n",
    "    import numpy as np\n",
    "    labels_path = os.path.join(path, 'K%s-labels-idx1-ubyte.gz' % kind)\n",
    "    images_path = os.path.join(path, 'K%s-images-idx3-ubyte.gz' % kind)\n",
    "    with gzip.open(labels_path, 'rb') as lbpath:\n",
    "        labels = np.frombuffer(lbpath.read(), dtype=np.uint8,offset=8)\n",
    "    with gzip.open(images_path, 'rb') as imgpath:\n",
    "        images = np.frombuffer(imgpath.read(), dtype=np.uint8,offset=16).reshape(len(labels), 784)\n",
    "    return images, labels"
   ]
  },
  {
   "cell_type": "code",
   "execution_count": 3,
   "metadata": {},
   "outputs": [],
   "source": [
    "#fix your ID (\"numero di matricola\") and the seed for random generator (as usual you can try different seeds)\n",
    "\n",
    "ID = 2045247\n",
    "np.random.seed(ID)"
   ]
  },
  {
   "cell_type": "code",
   "execution_count": 4,
   "metadata": {},
   "outputs": [
    {
     "name": "stdout",
     "output_type": "stream",
     "text": [
      "(60000, 784) (60000,)\n"
     ]
    }
   ],
   "source": [
    "#load the K-MNIST dataset from the 'data' folder and let's normalize the features so that each value is in [0,1] \n",
    "\n",
    "X, y = load_mnist('data', kind='train')\n",
    "\n",
    "# rescale the data\n",
    "\n",
    "X, y = X / 255., y # original pixel values are between 0 and 255\n",
    "print(X.shape, y.shape)"
   ]
  },
  {
   "cell_type": "markdown",
   "metadata": {},
   "source": [
    "Now split into training and test. Make sure that each label is present at least 10 times\n",
    "in training. If it is not, then keep adding permutations to the initial data until this \n",
    "happens."
   ]
  },
  {
   "cell_type": "code",
   "execution_count": 5,
   "metadata": {},
   "outputs": [
    {
     "name": "stdout",
     "output_type": "stream",
     "text": [
      "Labels in training dataset:  [0 1 2 3 4 5 6 7 8 9]\n",
      "Frequencies in training dataset:  [52 68 70 72 63 57 50 52 52 64]\n",
      "\n",
      "Labels in test dataset:  [0 1 2 3 4 5 6 7 8 9]\n",
      "Frequencies in test dataset:  [410 412 409 424 388 417 382 363 387 408]\n"
     ]
    }
   ],
   "source": [
    "# Random permute the data and split into training and test taking the first 600\n",
    "# data samples as training and 4000 samples as test\n",
    "\n",
    "permutation = np.random.permutation(X.shape[0])\n",
    "\n",
    "X = X[permutation]\n",
    "y = y[permutation]\n",
    "\n",
    "m_training = 600\n",
    "m_test = 4000\n",
    "\n",
    "X_train, X_test = X[:m_training], X[m_training:m_training+m_test:]\n",
    "y_train, y_test = y[:m_training], y[m_training:m_training+m_test:]\n",
    "\n",
    "labels, freqs = np.unique(y_train, return_counts=True)\n",
    "labels_test, freqs_test = np.unique(y_test, return_counts=True)\n",
    "\n",
    "print(\"Labels in training dataset: \", labels)\n",
    "print(\"Frequencies in training dataset: \", freqs)\n",
    "\n",
    "print(\"\\nLabels in test dataset: \", labels_test)\n",
    "print(\"Frequencies in test dataset: \", freqs_test)"
   ]
  },
  {
   "cell_type": "code",
   "execution_count": 6,
   "metadata": {},
   "outputs": [],
   "source": [
    "#function for plotting a image and printing the corresponding label\n",
    "def plot_input(X_matrix, labels, index):\n",
    "    print(\"\\nINPUT:\")\n",
    "    plt.imshow(\n",
    "        X_matrix[index].reshape(28,28),\n",
    "        cmap          = plt.cm.gray_r,\n",
    "        interpolation = \"nearest\"\n",
    "    )\n",
    "    plt.show()\n",
    "    print(\"LABEL: %i\"%labels[index])\n",
    "    return"
   ]
  },
  {
   "cell_type": "code",
   "execution_count": 7,
   "metadata": {},
   "outputs": [
    {
     "name": "stdout",
     "output_type": "stream",
     "text": [
      "\n",
      "INPUT:\n"
     ]
    },
    {
     "data": {
      "image/png": "[encoded data removed]",
      "text/plain": [
       "<Figure size 432x288 with 1 Axes>"
      ]
     },
     "metadata": {
      "needs_background": "light"
     },
     "output_type": "display_data"
    },
    {
     "name": "stdout",
     "output_type": "stream",
     "text": [
      "LABEL: 2\n",
      "\n",
      "INPUT:\n"
     ]
    },
    {
     "data": {
      "image/png": "[encoded data removed]",
      "text/plain": [
       "<Figure size 432x288 with 1 Axes>"
      ]
     },
     "metadata": {
      "needs_background": "light"
     },
     "output_type": "display_data"
    },
    {
     "name": "stdout",
     "output_type": "stream",
     "text": [
      "LABEL: 2\n",
      "\n",
      "INPUT:\n"
     ]
    },
    {
     "data": {
      "image/png": "[encoded data removed]",
      "text/plain": [
       "<Figure size 432x288 with 1 Axes>"
      ]
     },
     "metadata": {
      "needs_background": "light"
     },
     "output_type": "display_data"
    },
    {
     "name": "stdout",
     "output_type": "stream",
     "text": [
      "LABEL: 1\n",
      "\n",
      "INPUT:\n"
     ]
    },
    {
     "data": {
      "image/png": "[encoded data removed]",
      "text/plain": [
       "<Figure size 432x288 with 1 Axes>"
      ]
     },
     "metadata": {
      "needs_background": "light"
     },
     "output_type": "display_data"
    },
    {
     "name": "stdout",
     "output_type": "stream",
     "text": [
      "LABEL: 3\n"
     ]
    }
   ],
   "source": [
    "#let's try the plotting function\n",
    "plot_input(X_train,y_train,5)\n",
    "plot_input(X_test,y_test,50)\n",
    "plot_input(X_test,y_test,500)\n",
    "plot_input(X_test,y_test,700)"
   ]
  },
  {
   "cell_type": "markdown",
   "metadata": {},
   "source": [
    "## TO DO 1\n",
    "Use a SVM classifier with cross validation to pick a model. Use a 4-fold cross-validation. Let's start with a Linear kernel:"
   ]
  },
  {
   "cell_type": "code",
   "execution_count": 8,
   "metadata": {},
   "outputs": [
    {
     "name": "stdout",
     "output_type": "stream",
     "text": [
      "RESULTS FOR LINEAR KERNEL\n",
      "   mean_fit_time  std_fit_time  mean_score_time  std_score_time param_C  \\\n",
      "0       0.050134      0.004579         0.014744        0.000211    0.01   \n",
      "1       0.055834      0.008463         0.014701        0.002008     0.1   \n",
      "2       0.053335      0.002077         0.014281        0.000719       1   \n",
      "3       0.082867      0.011424         0.042668        0.008993      10   \n",
      "\n",
      "        params  split0_test_score  split1_test_score  split2_test_score  \\\n",
      "0  {'C': 0.01}           0.753333           0.773333           0.713333   \n",
      "1   {'C': 0.1}           0.713333           0.746667           0.713333   \n",
      "2     {'C': 1}           0.713333           0.746667           0.706667   \n",
      "3    {'C': 10}           0.713333           0.746667           0.706667   \n",
      "\n",
      "   split3_test_score  mean_test_score  std_test_score  rank_test_score  \n",
      "0           0.746667         0.746667        0.021602                1  \n",
      "1           0.740000         0.728333        0.015184                2  \n",
      "2           0.726667         0.723333        0.015275                3  \n",
      "3           0.726667         0.723333        0.015275                3  \n",
      "\n",
      "Best parameters set found:\n",
      "{'C': 0.01}\n",
      "\n",
      "Score with best parameters:\n",
      "0.7466666666666667\n",
      "\n",
      "All scores on the grid:\n",
      "        params  mean_test_score\n",
      "0  {'C': 0.01}         0.746667\n",
      "1   {'C': 0.1}         0.728333\n",
      "2     {'C': 1}         0.723333\n",
      "3    {'C': 10}         0.723333\n"
     ]
    }
   ],
   "source": [
    "#import SVC\n",
    "from sklearn.svm import SVC\n",
    "\n",
    "#import for Cross-Validation\n",
    "from sklearn.model_selection import GridSearchCV\n",
    "\n",
    "# parameters for linear SVM\n",
    "parameters = {'C': [0.01, 0.1, 1, 10]}\n",
    "\n",
    "#train linear SVM\n",
    "\n",
    "svc = SVC(kernel=\"linear\")  #set Linear Kernel\n",
    "clf = GridSearchCV(svc, parameters, cv=4)\n",
    "\n",
    "clf.fit(X_train , y_train)\n",
    "\n",
    "print ('RESULTS FOR LINEAR KERNEL')\n",
    "clf_res = ( pd.DataFrame.from_dict(clf.cv_results_))\n",
    "print(clf_res)\n",
    "\n",
    "print(\"\\nBest parameters set found:\")\n",
    "print(clf.best_params_)\n",
    "\n",
    "\n",
    "print(\"\\nScore with best parameters:\")\n",
    "print(clf.best_score_)\n",
    "\n",
    "\n",
    "print(\"\\nAll scores on the grid:\")\n",
    "print(clf_res.loc[:,[\"params\",\"mean_test_score\"]])"
   ]
  },
  {
   "cell_type": "markdown",
   "metadata": {},
   "source": [
    "## TO DO 2\n",
    "Pick a model for the Polynomial kernel with degree=2:"
   ]
  },
  {
   "cell_type": "code",
   "execution_count": 9,
   "metadata": {},
   "outputs": [
    {
     "name": "stdout",
     "output_type": "stream",
     "text": [
      "RESULTS FOR POLY DEGREE=2 KERNEL\n",
      "   mean_fit_time  std_fit_time  mean_score_time  std_score_time param_C  \\\n",
      "0       0.107482      0.009578         0.061546        0.017838    0.01   \n",
      "1       0.084486      0.013882         0.032784        0.010583    0.01   \n",
      "2       0.045123      0.002069         0.016497        0.005508    0.01   \n",
      "3       0.056732      0.010458         0.013951        0.002787     0.1   \n",
      "4       0.078541      0.017677         0.034680        0.013585     0.1   \n",
      "5       0.072490      0.010696         0.016374        0.003908     0.1   \n",
      "6       0.054839      0.003031         0.017897        0.006207       1   \n",
      "7       0.061020      0.006620         0.013346        0.001565       1   \n",
      "8       0.049583      0.002592         0.012574        0.000500       1   \n",
      "\n",
      "  param_gamma                      params  split0_test_score  \\\n",
      "0        0.01  {'C': 0.01, 'gamma': 0.01}           0.753333   \n",
      "1         0.1   {'C': 0.01, 'gamma': 0.1}           0.753333   \n",
      "2           1     {'C': 0.01, 'gamma': 1}           0.753333   \n",
      "3        0.01   {'C': 0.1, 'gamma': 0.01}           0.713333   \n",
      "4         0.1    {'C': 0.1, 'gamma': 0.1}           0.713333   \n",
      "5           1      {'C': 0.1, 'gamma': 1}           0.713333   \n",
      "6        0.01     {'C': 1, 'gamma': 0.01}           0.713333   \n",
      "7         0.1      {'C': 1, 'gamma': 0.1}           0.713333   \n",
      "8           1        {'C': 1, 'gamma': 1}           0.713333   \n",
      "\n",
      "   split1_test_score  split2_test_score  split3_test_score  mean_test_score  \\\n",
      "0           0.773333           0.713333           0.746667         0.746667   \n",
      "1           0.773333           0.713333           0.746667         0.746667   \n",
      "2           0.773333           0.713333           0.746667         0.746667   \n",
      "3           0.746667           0.713333           0.740000         0.728333   \n",
      "4           0.746667           0.713333           0.740000         0.728333   \n",
      "5           0.746667           0.713333           0.740000         0.728333   \n",
      "6           0.746667           0.706667           0.726667         0.723333   \n",
      "7           0.746667           0.706667           0.726667         0.723333   \n",
      "8           0.746667           0.706667           0.726667         0.723333   \n",
      "\n",
      "   std_test_score  rank_test_score  \n",
      "0        0.021602                1  \n",
      "1        0.021602                1  \n",
      "2        0.021602                1  \n",
      "3        0.015184                4  \n",
      "4        0.015184                4  \n",
      "5        0.015184                4  \n",
      "6        0.015275                7  \n",
      "7        0.015275                7  \n",
      "8        0.015275                7  \n",
      "\n",
      "Best parameters set found:\n",
      "{'C': 0.01, 'gamma': 0.01}\n",
      "\n",
      "Score with best parameters:\n",
      "0.7466666666666667\n",
      "\n",
      "All scores on the grid:\n",
      "                       params  mean_test_score\n",
      "0  {'C': 0.01, 'gamma': 0.01}         0.746667\n",
      "1   {'C': 0.01, 'gamma': 0.1}         0.746667\n",
      "2     {'C': 0.01, 'gamma': 1}         0.746667\n",
      "3   {'C': 0.1, 'gamma': 0.01}         0.728333\n",
      "4    {'C': 0.1, 'gamma': 0.1}         0.728333\n",
      "5      {'C': 0.1, 'gamma': 1}         0.728333\n",
      "6     {'C': 1, 'gamma': 0.01}         0.723333\n",
      "7      {'C': 1, 'gamma': 0.1}         0.723333\n",
      "8        {'C': 1, 'gamma': 1}         0.723333\n"
     ]
    }
   ],
   "source": [
    "# parameters for poly with degree 2 kernel\n",
    "parameters = {'C': [0.01, 0.1, 1],'gamma':[0.01,0.1,1]}\n",
    "\n",
    "#run SVM with poly of degree 2 kernel\n",
    "\n",
    "svc2 = SVC(kernel=\"poly\", degree=2)  #set Poly degree 2 Kernel\n",
    "\n",
    "clf2 = GridSearchCV(svc, parameters , cv=4)\n",
    "\n",
    "clf2.fit(X_train , y_train)\n",
    "\n",
    "\n",
    "print ('RESULTS FOR POLY DEGREE=2 KERNEL')\n",
    "clf2_res=(pd.DataFrame.from_dict(clf2.cv_results_))\n",
    "print(clf2_res)\n",
    "\n",
    "\n",
    "print(\"\\nBest parameters set found:\")\n",
    "print(clf2.best_params_)\n",
    "\n",
    "print(\"\\nScore with best parameters:\")\n",
    "print(clf2.best_score_)\n",
    "\n",
    "\n",
    "print(\"\\nAll scores on the grid:\")\n",
    "print(clf2_res.loc[:,[\"params\",\"mean_test_score\"]]) "
   ]
  },
  {
   "cell_type": "markdown",
   "metadata": {},
   "source": [
    "## TO DO 3\n",
    "\n",
    "Now let's try a higher degree for the polynomial kernel (e.g., 3rd degree)."
   ]
  },
  {
   "cell_type": "code",
   "execution_count": 10,
   "metadata": {},
   "outputs": [
    {
     "name": "stdout",
     "output_type": "stream",
     "text": [
      "RESULTS FOR POLY DEGREE = 5  KERNEL\n",
      "   mean_fit_time  std_fit_time  mean_score_time  std_score_time param_C  \\\n",
      "0       0.054542      0.003266         0.021592        0.003962    0.01   \n",
      "1       0.058117      0.010032         0.038439        0.008164    0.01   \n",
      "2       0.072072      0.029503         0.035302        0.018016    0.01   \n",
      "3       0.073129      0.020222         0.045388        0.015565     0.1   \n",
      "4       0.088001      0.014044         0.040483        0.016295     0.1   \n",
      "5       0.123364      0.023913         0.052671        0.011074     0.1   \n",
      "6       0.066326      0.013961         0.020363        0.010354       1   \n",
      "7       0.051703      0.005792         0.017496        0.007086       1   \n",
      "8       0.049030      0.001696         0.014017        0.000403       1   \n",
      "\n",
      "  param_gamma                      params  split0_test_score  \\\n",
      "0        0.01  {'C': 0.01, 'gamma': 0.01}           0.753333   \n",
      "1         0.1   {'C': 0.01, 'gamma': 0.1}           0.753333   \n",
      "2           1     {'C': 0.01, 'gamma': 1}           0.753333   \n",
      "3        0.01   {'C': 0.1, 'gamma': 0.01}           0.713333   \n",
      "4         0.1    {'C': 0.1, 'gamma': 0.1}           0.713333   \n",
      "5           1      {'C': 0.1, 'gamma': 1}           0.713333   \n",
      "6        0.01     {'C': 1, 'gamma': 0.01}           0.713333   \n",
      "7         0.1      {'C': 1, 'gamma': 0.1}           0.713333   \n",
      "8           1        {'C': 1, 'gamma': 1}           0.713333   \n",
      "\n",
      "   split1_test_score  split2_test_score  split3_test_score  mean_test_score  \\\n",
      "0           0.773333           0.713333           0.746667         0.746667   \n",
      "1           0.773333           0.713333           0.746667         0.746667   \n",
      "2           0.773333           0.713333           0.746667         0.746667   \n",
      "3           0.746667           0.713333           0.740000         0.728333   \n",
      "4           0.746667           0.713333           0.740000         0.728333   \n",
      "5           0.746667           0.713333           0.740000         0.728333   \n",
      "6           0.746667           0.706667           0.726667         0.723333   \n",
      "7           0.746667           0.706667           0.726667         0.723333   \n",
      "8           0.746667           0.706667           0.726667         0.723333   \n",
      "\n",
      "   std_test_score  rank_test_score  \n",
      "0        0.021602                1  \n",
      "1        0.021602                1  \n",
      "2        0.021602                1  \n",
      "3        0.015184                4  \n",
      "4        0.015184                4  \n",
      "5        0.015184                4  \n",
      "6        0.015275                7  \n",
      "7        0.015275                7  \n",
      "8        0.015275                7  \n",
      "\n",
      "Best parameters set found:\n",
      "{'C': 0.01, 'gamma': 0.01}\n",
      "\n",
      "Score with best parameters:\n",
      "0.7466666666666667\n",
      "\n",
      "All scores on the grid:\n",
      "                       params  mean_test_score\n",
      "0  {'C': 0.01, 'gamma': 0.01}         0.746667\n",
      "1   {'C': 0.01, 'gamma': 0.1}         0.746667\n",
      "2     {'C': 0.01, 'gamma': 1}         0.746667\n",
      "3   {'C': 0.1, 'gamma': 0.01}         0.728333\n",
      "4    {'C': 0.1, 'gamma': 0.1}         0.728333\n",
      "5      {'C': 0.1, 'gamma': 1}         0.728333\n",
      "6     {'C': 1, 'gamma': 0.01}         0.723333\n",
      "7      {'C': 1, 'gamma': 0.1}         0.723333\n",
      "8        {'C': 1, 'gamma': 1}         0.723333\n"
     ]
    }
   ],
   "source": [
    "# parameters for poly with higher degree kernel\n",
    "parameters = {'C': [0.01, 0.1, 1],'gamma':[0.01,0.1,1]}\n",
    "\n",
    "#run SVM with poly of higher degree kernel\n",
    "degree = 5\n",
    "\n",
    "svc5 = SVC(kernel=\"poly\", degree = degree)  #set Poly degree 4 Kernel\n",
    "\n",
    "clf5 = GridSearchCV(svc, parameters , cv=4)\n",
    "\n",
    "clf5.fit(X_train , y_train)\n",
    "\n",
    "print ('RESULTS FOR POLY DEGREE =', degree, ' KERNEL')\n",
    "clf5_res =( pd.DataFrame.from_dict(clf5.cv_results_))\n",
    "print(clf5_res)\n",
    "\n",
    "print(\"\\nBest parameters set found:\")\n",
    "print(clf5.best_params_)\n",
    "\n",
    "print(\"\\nScore with best parameters:\")\n",
    "print(clf5.best_score_)\n",
    "\n",
    "\n",
    "print(\"\\nAll scores on the grid:\")\n",
    "print(clf5_res.loc[:,[\"params\",\"mean_test_score\"]])"
   ]
  },
  {
   "cell_type": "markdown",
   "metadata": {},
   "source": [
    "## TO DO 4\n",
    "Pick a model for the Radial Basis Function kernel:"
   ]
  },
  {
   "cell_type": "code",
   "execution_count": 11,
   "metadata": {},
   "outputs": [
    {
     "name": "stdout",
     "output_type": "stream",
     "text": [
      "RESULTS FOR rbf KERNEL\n",
      "    mean_fit_time  std_fit_time  mean_score_time  std_score_time param_C  \\\n",
      "0        0.105457      0.022198         0.078413        0.025109     0.1   \n",
      "1        0.120933      0.027323         0.084036        0.024070     0.1   \n",
      "2        0.094306      0.005695         0.065446        0.009545     0.1   \n",
      "3        0.116752      0.029370         0.076084        0.013869     0.1   \n",
      "4        0.170972      0.066338         0.120576        0.035652       1   \n",
      "5        0.178244      0.089322         0.088591        0.044039       1   \n",
      "6        0.083446      0.005537         0.058087        0.016119       1   \n",
      "7        0.113469      0.007534         0.087803        0.002466       1   \n",
      "8        0.093766      0.022084         0.078846        0.007528      10   \n",
      "9        0.081152      0.012803         0.044105        0.003176      10   \n",
      "10       0.093791      0.022136         0.056254        0.017291      10   \n",
      "11       0.097389      0.028446         0.053708        0.008635      10   \n",
      "12       0.077435      0.009331         0.064108        0.009899     100   \n",
      "13       0.072696      0.005287         0.039983        0.000758     100   \n",
      "14       0.075005      0.001490         0.042509        0.004401     100   \n",
      "15       0.082013      0.005518         0.051469        0.019553     100   \n",
      "\n",
      "   param_gamma                      params  split0_test_score  \\\n",
      "0        0.001  {'C': 0.1, 'gamma': 0.001}           0.120000   \n",
      "1         0.01   {'C': 0.1, 'gamma': 0.01}           0.206667   \n",
      "2          0.1    {'C': 0.1, 'gamma': 0.1}           0.120000   \n",
      "3            1      {'C': 0.1, 'gamma': 1}           0.120000   \n",
      "4        0.001    {'C': 1, 'gamma': 0.001}           0.573333   \n",
      "5         0.01     {'C': 1, 'gamma': 0.01}           0.766667   \n",
      "6          0.1      {'C': 1, 'gamma': 0.1}           0.213333   \n",
      "7            1        {'C': 1, 'gamma': 1}           0.120000   \n",
      "8        0.001   {'C': 10, 'gamma': 0.001}           0.760000   \n",
      "9         0.01    {'C': 10, 'gamma': 0.01}           0.786667   \n",
      "10         0.1     {'C': 10, 'gamma': 0.1}           0.220000   \n",
      "11           1       {'C': 10, 'gamma': 1}           0.120000   \n",
      "12       0.001  {'C': 100, 'gamma': 0.001}           0.726667   \n",
      "13        0.01   {'C': 100, 'gamma': 0.01}           0.786667   \n",
      "14         0.1    {'C': 100, 'gamma': 0.1}           0.220000   \n",
      "15           1      {'C': 100, 'gamma': 1}           0.120000   \n",
      "\n",
      "    split1_test_score  split2_test_score  split3_test_score  mean_test_score  \\\n",
      "0            0.120000           0.120000           0.120000         0.120000   \n",
      "1            0.213333           0.240000           0.213333         0.218333   \n",
      "2            0.120000           0.120000           0.120000         0.120000   \n",
      "3            0.120000           0.120000           0.120000         0.120000   \n",
      "4            0.606667           0.586667           0.506667         0.568333   \n",
      "5            0.793333           0.746667           0.773333         0.770000   \n",
      "6            0.146667           0.126667           0.180000         0.166667   \n",
      "7            0.120000           0.120000           0.120000         0.120000   \n",
      "8            0.753333           0.746667           0.760000         0.755000   \n",
      "9            0.806667           0.766667           0.826667         0.796667   \n",
      "10           0.180000           0.153333           0.200000         0.188333   \n",
      "11           0.120000           0.120000           0.120000         0.120000   \n",
      "12           0.760000           0.720000           0.753333         0.740000   \n",
      "13           0.806667           0.766667           0.826667         0.796667   \n",
      "14           0.180000           0.153333           0.200000         0.188333   \n",
      "15           0.120000           0.120000           0.120000         0.120000   \n",
      "\n",
      "    std_test_score  rank_test_score  \n",
      "0         0.000000               11  \n",
      "1         0.012802                7  \n",
      "2         0.000000               11  \n",
      "3         0.000000               11  \n",
      "4         0.037528                6  \n",
      "5         0.016667                3  \n",
      "6         0.032998               10  \n",
      "7         0.000000               11  \n",
      "8         0.005528                4  \n",
      "9         0.022361                1  \n",
      "10        0.024664                8  \n",
      "11        0.000000               11  \n",
      "12        0.016997                5  \n",
      "13        0.022361                1  \n",
      "14        0.024664                8  \n",
      "15        0.000000               11  \n",
      "\n",
      "Best parameters set found:\n",
      "{'C': 10, 'gamma': 0.01}\n",
      "\n",
      "Score with best parameters:\n",
      "0.7966666666666666\n",
      "\n",
      "All scores on the grid:\n",
      "                        params  mean_test_score\n",
      "0   {'C': 0.1, 'gamma': 0.001}         0.120000\n",
      "1    {'C': 0.1, 'gamma': 0.01}         0.218333\n",
      "2     {'C': 0.1, 'gamma': 0.1}         0.120000\n",
      "3       {'C': 0.1, 'gamma': 1}         0.120000\n",
      "4     {'C': 1, 'gamma': 0.001}         0.568333\n",
      "5      {'C': 1, 'gamma': 0.01}         0.770000\n",
      "6       {'C': 1, 'gamma': 0.1}         0.166667\n",
      "7         {'C': 1, 'gamma': 1}         0.120000\n",
      "8    {'C': 10, 'gamma': 0.001}         0.755000\n",
      "9     {'C': 10, 'gamma': 0.01}         0.796667\n",
      "10     {'C': 10, 'gamma': 0.1}         0.188333\n",
      "11       {'C': 10, 'gamma': 1}         0.120000\n",
      "12  {'C': 100, 'gamma': 0.001}         0.740000\n",
      "13   {'C': 100, 'gamma': 0.01}         0.796667\n",
      "14    {'C': 100, 'gamma': 0.1}         0.188333\n",
      "15      {'C': 100, 'gamma': 1}         0.120000\n"
     ]
    }
   ],
   "source": [
    "# parameters for rbf SVM\n",
    "parameters = {'C': [0.1, 1, 10, 100],'gamma':[0.001, 0.01, 0.1,1]}\n",
    "\n",
    "#run SVM with rbf kernel\n",
    "\n",
    "svc = SVC(kernel=\"rbf\")  #set Radial Basis Function Kernel\n",
    "\n",
    "clf_rbf = GridSearchCV(svc, parameters , cv=4)\n",
    "\n",
    "clf_rbf.fit(X_train , y_train)\n",
    "\n",
    "\n",
    "print ('RESULTS FOR rbf KERNEL')\n",
    "clf_rbf_res =( pd.DataFrame.from_dict(clf_rbf.cv_results_))\n",
    "print(clf_rbf_res)\n",
    "\n",
    "\n",
    "print(\"\\nBest parameters set found:\")\n",
    "print(clf_rbf.best_params_)\n",
    "\n",
    "print(\"\\nScore with best parameters:\")\n",
    "print(clf_rbf.best_score_)\n",
    "\n",
    "print(\"\\nAll scores on the grid:\")\n",
    "print(clf_rbf_res.loc[:,[\"params\",\"mean_test_score\"]])"
   ]
  },
  {
   "cell_type": "markdown",
   "metadata": {},
   "source": [
    "## QUESTION 1\n",
    "What do you observe when using linear, polynomial and RBF kernels on this dataset ?"
   ]
  },
  {
   "cell_type": "code",
   "execution_count": 12,
   "metadata": {},
   "outputs": [
    {
     "name": "stdout",
     "output_type": "stream",
     "text": [
      "Linear Kernel  best accuracy is -->  0.7466666666666667\n",
      "Poly degree 2  best accuracy is -->  0.7466666666666667\n",
      "Poly degree 5  best accuracy is -->  0.7466666666666667\n",
      "Radial Basis Function  best accuracy is -->  0.7966666666666666\n"
     ]
    }
   ],
   "source": [
    "score_list=[clf.best_score_, clf2.best_score_, clf5.best_score_, clf_rbf.best_score_]\n",
    "\n",
    "scores=np.array(score_list)\n",
    "Kernels=(\"Linear Kernel\" , \"Poly degree 2\" , \"Poly degree 5\" , \"Radial Basis Function\")\n",
    "\n",
    "for i in range(4):\n",
    "    print(Kernels[i], \" best accuracy is --> \" , scores[i])"
   ]
  },
  {
   "cell_type": "markdown",
   "metadata": {},
   "source": [
    "On this dataset I observe in general a similar behaviour between Linear and Polynomial (degree 2 and 5) kernels even if with degrees bigger than 2 the accuracy seems getting slightly worse.\n",
    "\n",
    "\n",
    "The highest score on the training is reached by using the Radial Basis Function kernel and regarding to this, from now on Rbf is chosen as best Kernel on this data."
   ]
  },
  {
   "cell_type": "markdown",
   "metadata": {},
   "source": [
    "## TO DO 5\n",
    "Report here the best SVM kernel and parameters"
   ]
  },
  {
   "cell_type": "code",
   "execution_count": 13,
   "metadata": {},
   "outputs": [
    {
     "name": "stdout",
     "output_type": "stream",
     "text": [
      "Best SVM training error: 0.000000\n",
      "Best SVM test error: 0.168250\n"
     ]
    }
   ],
   "source": [
    "#get training and test error for the best SVM model from CV\n",
    "\n",
    "best_SVM = SVC(kernel=\"rbf\" , C = 10 , gamma = 0.01 )\n",
    "\n",
    "best_SVM.fit(X_train , y_train)\n",
    "\n",
    "training_error = 1 - best_SVM.score(X_train , y_train)\n",
    "\n",
    "test_error= 1 - best_SVM.score(X_test, y_test)\n",
    "\n",
    "\n",
    "print (\"Best SVM training error: %f\" % training_error)\n",
    "print (\"Best SVM test error: %f\" % test_error)"
   ]
  },
  {
   "cell_type": "markdown",
   "metadata": {},
   "source": [
    "## TO DO 6\n",
    "\n",
    "Analyze how the gamma parameter (inversely proportional to standard deviation of Gaussian Kernel) impact the performances of the classifier"
   ]
  },
  {
   "cell_type": "code",
   "execution_count": 14,
   "metadata": {},
   "outputs": [
    {
     "name": "stdout",
     "output_type": "stream",
     "text": [
      "[1.e-05 1.e-04 1.e-03 1.e-02 1.e-01 1.e+00 1.e+01 1.e+02]\n"
     ]
    }
   ],
   "source": [
    "#Test with different values of gamma\n",
    "\n",
    "# Set gamma values\n",
    "gamma_values = np.logspace(-5,2,8)\n",
    "print(gamma_values)\n"
   ]
  },
  {
   "cell_type": "code",
   "execution_count": 15,
   "metadata": {},
   "outputs": [
    {
     "data": {
      "image/png": "[encoded data removed]",
      "text/plain": [
       "<Figure size 1080x360 with 2 Axes>"
      ]
     },
     "metadata": {
      "needs_background": "light"
     },
     "output_type": "display_data"
    }
   ],
   "source": [
    "# Try the SVM with the previously set values of gamma\n",
    "# use rbf kernel and C=1\n",
    "\n",
    "train_acc_list, test_acc_list = [], []\n",
    "\n",
    "for i in (gamma_values):\n",
    "\n",
    "#run SVM with rbf kernel\n",
    "\n",
    "    svc = SVC(kernel=\"rbf\", C = 1 , gamma=i)  #set Radial Basis Function Kernel\n",
    "\n",
    "    svc.fit(X_train , y_train)    #train\n",
    "\n",
    "    train_acc_list.append(svc.score(X_train, y_train))    #update training accuracy list\n",
    "    \n",
    "    test_acc_list.append(svc.score(X_test, y_test))   #update test accuracy list\n",
    "    \n",
    "\n",
    "\n",
    "\n",
    "# Plot\n",
    "fig, ax = plt.subplots(1,2, figsize=(15,5))\n",
    "\n",
    "ax[0].plot(gamma_values, train_acc_list)\n",
    "ax[0].set_xscale('log')\n",
    "ax[0].set_xlabel('gamma')\n",
    "ax[0].set_ylabel('Train accuracy')\n",
    "ax[0].grid(True)\n",
    "\n",
    "ax[1].plot(gamma_values, test_acc_list)\n",
    "ax[1].set_xscale('log')\n",
    "ax[1].set_xlabel('gamma')\n",
    "ax[1].set_ylabel('Test accuracy')\n",
    "ax[1].grid(True)\n",
    "\n",
    "\n",
    "plt.show()"
   ]
  },
  {
   "cell_type": "markdown",
   "metadata": {},
   "source": [
    "## QUESTION 2\n",
    "How do the train and test error change when changing gamma ? Which is the best value of gamma ? \n",
    "Connect your answers to the discussion about the overfitting issue."
   ]
  },
  {
   "cell_type": "markdown",
   "metadata": {},
   "source": [
    "The changes of the train and test error are shown in the two previous plots.\n",
    "The accuracy for the training increases as a monotonic function of gamma and the best accuracy for the test is reached with a value of gamma equals to 10^-2.\n",
    "\n",
    "In the trainig seems to have an Overfitting issue, with rbf and a big value of lambda, the algorithm tends to classify points \"strictly around them\".\n",
    "When there is the overfitting issue, the test accuracy decreases, because the algorithm works bad on a different (with respect to the training set) \"region\" of data."
   ]
  },
  {
   "cell_type": "markdown",
   "metadata": {},
   "source": [
    "## More data\n",
    "Now let's do the same but using more data points for training.\n",
    "\n",
    "\n",
    "Choose a new number of data points."
   ]
  },
  {
   "cell_type": "code",
   "execution_count": 16,
   "metadata": {},
   "outputs": [
    {
     "name": "stdout",
     "output_type": "stream",
     "text": [
      "Train shape  (2000, 784)\n",
      "Test shape  (58000, 784)\n",
      "Labels in training dataset:  [0 1 2 3 4 5 6 7 8 9]\n",
      "Frequencies in training dataset:  [205 197 209 167 199 192 218 202 215 196]\n",
      "\n",
      "Labels in training dataset:  [0 1 2 3 4 5 6 7 8 9]\n",
      "Frequencies in training dataset:  [5795 5803 5791 5833 5801 5808 5782 5798 5785 5804]\n"
     ]
    }
   ],
   "source": [
    "X = X[permutation]\n",
    "y = y[permutation]\n",
    "\n",
    "m_training = 2000   # TODO number of data points, adjust depending on the capabilities of your PC\n",
    "\n",
    "X_train, X_test = X[:m_training], X[m_training:]\n",
    "y_train, y_test = y[:m_training], y[m_training:]\n",
    "\n",
    "print(\"Train shape \" , X_train.shape)\n",
    "print(\"Test shape \" , X_test.shape)\n",
    "\n",
    "labels, freqs = np.unique(y_train, return_counts=True)\n",
    "\n",
    "print(\"Labels in training dataset: \", labels)\n",
    "print(\"Frequencies in training dataset: \", freqs)\n",
    "\n",
    "labels_test, freqs_test = np.unique(y_test, return_counts=True)\n",
    "print(\"\\nLabels in training dataset: \", labels_test)\n",
    "print(\"Frequencies in training dataset: \", freqs_test)"
   ]
  },
  {
   "cell_type": "markdown",
   "metadata": {},
   "source": [
    "## TO DO 7\n",
    "\n",
    "Let's try to use SVM with parameters obtained from the best model for $m_{training} =  2000$. Since it may take a long time to run, you can decide to just let it run for some time and stop it if it does not complete. If you decide to do this, report it in the cell below."
   ]
  },
  {
   "cell_type": "code",
   "execution_count": 17,
   "metadata": {
    "scrolled": true
   },
   "outputs": [
    {
     "name": "stdout",
     "output_type": "stream",
     "text": [
      "Best SVM training error: 0.000000\n",
      "Best SVM test error: 0.115276\n"
     ]
    }
   ],
   "source": [
    "#get training and test error for the best SVM model from CV\n",
    "\n",
    "# best parameters = {'C': [10],'gamma':[0.01]}\n",
    "\n",
    "#run SVM with rbf kernel\n",
    "\n",
    "\n",
    "svc = SVC(kernel=\"rbf\" , C = 10 , gamma = 0.01 )  #set Radial Basis Function Kernel\n",
    "\n",
    "\n",
    "svc.fit(X_train , y_train)\n",
    "\n",
    "\n",
    "training_error = 1 - svc.score(X_train , y_train)\n",
    "\n",
    "test_error= 1 - svc.score(X_test, y_test)\n",
    "\n",
    "\n",
    "\n",
    "print (\"Best SVM training error: %f\" % training_error)\n",
    "print (\"Best SVM test error: %f\" % test_error)"
   ]
  },
  {
   "cell_type": "markdown",
   "metadata": {},
   "source": [
    "Just for comparison, let's also use logistic regression \n",
    "\n",
    "## TO DO 8 Try first without regularization (use a very large large C)¶"
   ]
  },
  {
   "cell_type": "code",
   "execution_count": 18,
   "metadata": {},
   "outputs": [
    {
     "name": "stdout",
     "output_type": "stream",
     "text": [
      "Best logistic regression training error: 0.000000\n",
      "Best logistic regression test error: 0.285310\n"
     ]
    }
   ],
   "source": [
    "from sklearn import linear_model\n",
    "\n",
    "logreg = linear_model.LogisticRegression(C=1e5, max_iter = 1000) #a large C disables regularization\n",
    "\n",
    "#learn from training set\n",
    "learn_model = logreg.fit(X_train, y_train)\n",
    "\n",
    "#predict on training set\n",
    "y_predicted = learn_model.predict(X_train)\n",
    "\n",
    "\n",
    "#print the error rate = fraction of misclassified samples\n",
    "training_error = 0\n",
    "\n",
    "for y_data , y_pred in zip(y_train , y_predicted):\n",
    "    if (y_data != y_pred):\n",
    "        training_error += 1/m_training\n",
    "\n",
    "\n",
    "#predict on test set\n",
    "\n",
    "y_predicted = learn_model.predict(X_test)\n",
    "\n",
    "#print the error rate = fraction of misclassified samples\n",
    "test_error = 0\n",
    "\n",
    "for y_data , y_pred in zip(y_test , y_predicted):\n",
    "    if (y_data != y_pred):\n",
    "        test_error += 1/(60000 - m_training)\n",
    "\n",
    "\n",
    "print (\"Best logistic regression training error: %f\" % training_error)\n",
    "print (\"Best logistic regression test error: %f\" % test_error)"
   ]
  },
  {
   "cell_type": "markdown",
   "metadata": {},
   "source": [
    "## TO DO 9 Try  with regularization (use C=1)¶"
   ]
  },
  {
   "cell_type": "code",
   "execution_count": 19,
   "metadata": {},
   "outputs": [
    {
     "name": "stdout",
     "output_type": "stream",
     "text": [
      "Best regularized logistic regression training error: 0.002500\n",
      "Best regularized logistic regression test error: 0.254966\n"
     ]
    }
   ],
   "source": [
    "from sklearn import linear_model\n",
    "\n",
    "logreg = linear_model.LogisticRegression(C=1 , max_iter = 1000) #C=1 introduce Regularization\n",
    "\n",
    "#learn from training set\n",
    "learn_model = logreg.fit(X_train, y_train)\n",
    "\n",
    "#predict on training set\n",
    "y_predicted_train = learn_model.predict(X_train)\n",
    "\n",
    "\n",
    "#print the error rate = fraction of misclassified samples\n",
    "training_error = 0\n",
    "\n",
    "\n",
    "for y_data , y_pred in zip(y_train , y_predicted_train):\n",
    "    if (y_data != y_pred):\n",
    "        training_error += 1/m_training\n",
    "\n",
    "\n",
    "#predict on test set\n",
    "\n",
    "y_predicted = learn_model.predict(X_test)\n",
    "\n",
    "\n",
    "#print the error rate = fraction of misclassified samples\n",
    "test_error = 0\n",
    "\n",
    "\n",
    "for y_data , y_pred in zip(y_test , y_predicted):\n",
    "    if (y_data != y_pred):\n",
    "        test_error += 1/(60000 - m_training)\n",
    "                 \n",
    "        \n",
    "        \n",
    "print (\"Best regularized logistic regression training error: %f\" % training_error)\n",
    "print (\"Best regularized logistic regression test error: %f\" % test_error)"
   ]
  },
  {
   "cell_type": "markdown",
   "metadata": {},
   "source": [
    "## QUESTION 3\n",
    "Compare and discuss:\n",
    "- the results from SVM with m=600 and with m=2000 training data points. If you stopped the SVM, include such aspect in your comparison.\n",
    "- the results of SVM and of Logistic Regression"
   ]
  },
  {
   "cell_type": "markdown",
   "metadata": {},
   "source": [
    "With m=2000 the results on the test error gets better:\n",
    "\n",
    "test_error with m=600  --> 0.168250\n",
    "\n",
    "\n",
    "test_error with m=2000 --> 0.115276\n",
    "\n",
    "\n",
    "This results was expected, in fact with a bigger training set there will be a better train of the algo  to classify every \"region\" of data, consequentially having a better accuracy on the test set.\n",
    "\n",
    "\n",
    "The results of the logistic regressions (with and without regularization) are really similar and both are worse than the one with SVM, with errors approximately above 0.25"
   ]
  },
  {
   "cell_type": "markdown",
   "metadata": {},
   "source": [
    "## TO DO 10\n",
    "Plot an item of clothing that is missclassified by logistic regression and correctly classified by SVM."
   ]
  },
  {
   "cell_type": "code",
   "execution_count": 20,
   "metadata": {},
   "outputs": [
    {
     "name": "stdout",
     "output_type": "stream",
     "text": [
      "SVM correctly classified\n",
      "\n",
      "INPUT:\n"
     ]
    },
    {
     "data": {
      "image/png": "[encoded data removed]",
      "text/plain": [
       "<Figure size 432x288 with 1 Axes>"
      ]
     },
     "metadata": {
      "needs_background": "light"
     },
     "output_type": "display_data"
    },
    {
     "name": "stdout",
     "output_type": "stream",
     "text": [
      "LABEL: 4\n",
      "\n",
      " \n",
      " LR wrong classified (equal wrong label)\n",
      "\n",
      "INPUT:\n"
     ]
    },
    {
     "data": {
      "image/png": "[encoded data removed]",
      "text/plain": [
       "<Figure size 432x288 with 1 Axes>"
      ]
     },
     "metadata": {
      "needs_background": "light"
     },
     "output_type": "display_data"
    },
    {
     "name": "stdout",
     "output_type": "stream",
     "text": [
      "LABEL: 2\n"
     ]
    }
   ],
   "source": [
    "LR_prediction = learn_model.predict(X_test)\n",
    "SVM_prediction = clf.predict(X_test)\n",
    "\n",
    "\n",
    "for i in range(len(X_test)):\n",
    "    if (y_test[i] != LR_prediction[i] and y_test[i] == SVM_prediction[i]):\n",
    "        missclass_index=i\n",
    "        break\n",
    "        \n",
    "print(\"SVM correctly classified\")       \n",
    "plot_input(X_test,y_test, missclass_index)\n",
    "\n",
    "index_wrong = 0\n",
    "for j in range(len(X_test)):\n",
    "    if (LR_prediction[missclass_index] == y_test[j]):\n",
    "        index_wrong=j\n",
    "        break\n",
    "        \n",
    "print(\"\\n \\n LR wrong classified (equal wrong label)\")\n",
    "plot_input(X_test,y_test,index_wrong)\n",
    "\n",
    "\n",
    "plt.show()\n",
    "      "
   ]
  },
  {
   "cell_type": "markdown",
   "metadata": {},
   "source": [
    "## TO DO 11\n",
    "Plot the confusion matrix for the SVM classifier and for logistic regression.\n",
    "The confusion matrix has one column for each predicted label and one row for each true label. \n",
    "It shows for each class in the corresponding row how many samples belonging to that class gets each possible output label.\n",
    "Notice that the diagonal contains the correctly classified samples, while the other cells correspond to errors.\n",
    "You can obtain it with the sklearn.metrics.confusion_matrix function (see the documentation).\n",
    "Try also to normalize the confusion matrix by the number of samples in each class in order to measure the accuracy on each single class.\n"
   ]
  },
  {
   "cell_type": "code",
   "execution_count": 21,
   "metadata": {},
   "outputs": [
    {
     "name": "stdout",
     "output_type": "stream",
     "text": [
      "Labels and frequencies in test set:  [5795 5803 5791 5833 5801 5808 5782 5798 5785 5804]\n",
      "\n",
      " Confusion matrix SVM  \n",
      " \n",
      " [[5013   29   13   95  109  196   12  160   43  125]\n",
      " [  20 4531  385   77  106   33  116    4  188  343]\n",
      " [   0  405 3795  177   65  106  791   12  371   69]\n",
      " [  10  150  127 4836   78  245   34   89  245   19]\n",
      " [ 193  383  441  163 4008   72  120   30  101  290]\n",
      " [  75  180  422  277   46 4620   58   23   87   20]\n",
      " [  15  425  724   72  127   71 4230   50   50   18]\n",
      " [  76   97  193  122  310  163   65 4606   85   81]\n",
      " [  51  537  342  199   19  313  266   16 3999   43]\n",
      " [  20  326  568   38  270   37   14   32  146 4353]]\n",
      "\n",
      " Confusion matrix SVM (normalized)   \n",
      " \n",
      " [[0.87 0.01 0.   0.02 0.02 0.03 0.   0.03 0.01 0.02]\n",
      " [0.   0.78 0.07 0.01 0.02 0.01 0.02 0.   0.03 0.06]\n",
      " [0.   0.07 0.66 0.03 0.01 0.02 0.14 0.   0.06 0.01]\n",
      " [0.   0.03 0.02 0.83 0.01 0.04 0.01 0.02 0.04 0.  ]\n",
      " [0.03 0.07 0.08 0.03 0.69 0.01 0.02 0.01 0.02 0.05]\n",
      " [0.01 0.03 0.07 0.05 0.01 0.8  0.01 0.   0.01 0.  ]\n",
      " [0.   0.07 0.13 0.01 0.02 0.01 0.73 0.01 0.01 0.  ]\n",
      " [0.01 0.02 0.03 0.02 0.05 0.03 0.01 0.79 0.01 0.01]\n",
      " [0.01 0.09 0.06 0.03 0.   0.05 0.05 0.   0.69 0.01]\n",
      " [0.   0.06 0.1  0.01 0.05 0.01 0.   0.01 0.03 0.75]]\n",
      "\n",
      " Confusion matrix LR  \n",
      " \n",
      " [[4967   26   19   53  202  219    6  130   65  108]\n",
      " [  19 4181  377   62  159   83  272   26  322  302]\n",
      " [  11  273 3637  123  136  412  498   91  375  235]\n",
      " [  32  120  142 4477  130  442   93  128  202   67]\n",
      " [ 242  284  293  106 4014  110  237  117   87  311]\n",
      " [  77  103  193  220   72 4706  121  107  160   49]\n",
      " [  66  198  542   83  250  157 4116  108  230   32]\n",
      " [ 186   47  120  158  174  154  114 4574  107  164]\n",
      " [  70  347  392  112  145  247  219   17 4144   92]\n",
      " [ 128  307  364   37  201  119   61   36  155 4396]]\n",
      "\n",
      " Confusion matrix LR (normalized)   \n",
      " \n",
      " [[0.86 0.   0.   0.01 0.03 0.04 0.   0.02 0.01 0.02]\n",
      " [0.   0.72 0.06 0.01 0.03 0.01 0.05 0.   0.06 0.05]\n",
      " [0.   0.05 0.63 0.02 0.02 0.07 0.09 0.02 0.06 0.04]\n",
      " [0.01 0.02 0.02 0.77 0.02 0.08 0.02 0.02 0.03 0.01]\n",
      " [0.04 0.05 0.05 0.02 0.69 0.02 0.04 0.02 0.01 0.05]\n",
      " [0.01 0.02 0.03 0.04 0.01 0.81 0.02 0.02 0.03 0.01]\n",
      " [0.01 0.03 0.09 0.01 0.04 0.03 0.71 0.02 0.04 0.01]\n",
      " [0.03 0.01 0.02 0.03 0.03 0.03 0.02 0.79 0.02 0.03]\n",
      " [0.01 0.06 0.07 0.02 0.03 0.04 0.04 0.   0.72 0.02]\n",
      " [0.02 0.05 0.06 0.01 0.03 0.02 0.01 0.01 0.03 0.76]]\n"
     ]
    }
   ],
   "source": [
    "from sklearn.metrics import ConfusionMatrixDisplay\n",
    "\n",
    "\n",
    "# for better aligned printing of confusion matrix use floatmode='fixed'\n",
    "np.set_printoptions(precision=2, suppress=True) \n",
    "\n",
    "u, counts = np.unique(y_test, return_counts=True)\n",
    "print(\"Labels and frequencies in test set: \", counts)\n",
    "\n",
    "confusion_SVM = sklearn.metrics.confusion_matrix(y_test, SVM_prediction)\n",
    "print(\"\\n Confusion matrix SVM  \\n \\n\", confusion_SVM)\n",
    "print(\"\\n Confusion matrix SVM (normalized)   \\n \\n\", confusion_SVM /counts[:,None] )\n",
    "\n",
    "confusion_LR = sklearn.metrics.confusion_matrix(y_test, LR_prediction)\n",
    "print(\"\\n Confusion matrix LR  \\n \\n\", confusion_LR)\n",
    "print(\"\\n Confusion matrix LR (normalized)   \\n \\n\", confusion_LR /counts[:,None] )"
   ]
  },
  {
   "cell_type": "code",
   "execution_count": 22,
   "metadata": {},
   "outputs": [
    {
     "data": {
      "image/png": "[encoded data removed]",
      "text/plain": [
       "<Figure size 1080x1440 with 4 Axes>"
      ]
     },
     "metadata": {
      "needs_background": "light"
     },
     "output_type": "display_data"
    }
   ],
   "source": [
    "# ADD CODE TO NORMALIZE CONFUSION MATRIX AND PRINT THE NORMALIZED MATRIX\n",
    "\n",
    "SVM_Norm_ConfusionMatrix = sklearn.metrics.confusion_matrix(y_test, SVM_prediction, normalize = 'true')\n",
    "\n",
    "LR_Norm_ConfusionMatrix = sklearn.metrics.confusion_matrix(y_test, LR_prediction, normalize = 'true')\n",
    "\n",
    "fig, (ax1, ax2) = plt.subplots(nrows=2, ncols=1, figsize=(15,20))\n",
    "\n",
    "\n",
    "ax1.set_title('Normalized Confusion Matrix - SVM' , fontsize=20 )\n",
    "ax1.set_xlabel('Predicted Labels', fontsize=18)\n",
    "ax1.set_ylabel('Real Labels', fontsize=18)\n",
    "plot1=ax1.imshow(SVM_Norm_ConfusionMatrix)\n",
    "for i in range(confusion_SVM.shape[0]):\n",
    "    for j in range(confusion_SVM.shape[1]):\n",
    "        n = round(SVM_Norm_ConfusionMatrix[j,i],2)\n",
    "        if (i == j):\n",
    "            ax1.text(i,j, str(n), va = 'center' , ha = 'center', color='black', fontsize=12)\n",
    "        else:\n",
    "            ax1.text(i,j, str(n), va = 'center' , ha = 'center', color='white', fontsize=12)\n",
    "plt.colorbar(plot1 , ax=ax1)       \n",
    "\n",
    "\n",
    "\n",
    "\n",
    "ax2.set_title('Normalized Confusion Matrix - LogRegr' , fontsize=20)\n",
    "ax2.set_xlabel('Predicted Labels' , fontsize=18)\n",
    "ax2.set_ylabel('Real Labels' , fontsize=18)\n",
    "plot2=ax2.imshow(LR_Norm_ConfusionMatrix)\n",
    "for i in range(confusion_LR.shape[0]):\n",
    "    for j in range(confusion_LR.shape[1]):\n",
    "        n = round(LR_Norm_ConfusionMatrix[j,i],2)\n",
    "        if (i == j):\n",
    "            ax2.text(i,j, str(n), va = 'center' , ha = 'center', color='black' , fontsize=12)\n",
    "        else:\n",
    "            ax2.text(i,j, str(n), va = 'center' , ha = 'center', color=\"white\", fontsize=12)\n",
    "plt.colorbar(plot2, ax=ax2)       \n",
    "\n",
    "            \n",
    "plt.show()\n",
    "\n",
    "\n"
   ]
  },
  {
   "cell_type": "markdown",
   "metadata": {},
   "source": [
    "## QUESTION 4\n",
    "Have a look at the confusion matrices and comment on the obtained accuracies. Why some classes have lower accuracies and others an higher one ? Make some guesses on the possible causes.\n"
   ]
  },
  {
   "cell_type": "markdown",
   "metadata": {},
   "source": [
    "Each column of the confusion matrix represents the predicted values and each row represents the real labels, from the diagonal of the matrices (where are shown the correct classifications) I can see that the accuracy of the classification is varying between japanese characters. \n",
    "\n",
    "\n",
    "Some classes have lower accuracies and others have an higher one and these differences might can be related to the similarities between Hiragana characters, for example label 2 and label 6 (of the initial table) are really similar and this may correspond to a difficult by the algorithm in the correct classification and as a consequence, having a decrease in accuracy.\n",
    "This is also visible in the confusion matrixes, for example the row real label = 2 have predicted label = 6 as the second biggest number of the entire row (0.14).\n",
    "It means that the SVM predictor when it badly classifies the label 2, most of the times it confuses it with label 6.\n"
   ]
  },
  {
   "cell_type": "code",
   "execution_count": null,
   "metadata": {},
   "outputs": [],
   "source": []
  }
 ],
 "metadata": {
  "kernelspec": {
   "display_name": "Python 3",
   "language": "python",
   "name": "python3"
  },
  "language_info": {
   "codemirror_mode": {
    "name": "ipython",
    "version": 3
   },
   "file_extension": ".py",
   "mimetype": "text/x-python",
   "name": "python",
   "nbconvert_exporter": "python",
   "pygments_lexer": "ipython3",
   "version": "3.8.10"
  }
 },
 "nbformat": 4,
 "nbformat_minor": 4
}
