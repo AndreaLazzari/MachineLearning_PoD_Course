{
 "cells": [
  {
   "cell_type": "markdown",
   "metadata": {},
   "source": [
    "# Kuzushiji Classification with Support Vector Machines\n",
    "\n",
    "In this notebook we are going to explore the use of Support Vector Machines (SVM) for image classification. We will use a variant of the famous MNIST dataset (the original is a dataset of handwritten digits). The version we are going to use is called Kuzushiji-MNIST or K-MNIST for short (https://github.com/rois-codh/kmnist) and is a dataset of traditional japanese handwritten kana.\n",
    "\n",
    "\n",
    "\n",
    "The dataset labels are the following:\n",
    "\n",
    "| Label | Hiragana Character | Romanji (Pronunciation) |\n",
    "| :-: | :-: | :-: |\n",
    "|   0   | お | o |\n",
    "| 1 | き | ki |\n",
    "| 2 | す | su |\n",
    "| 3 | つ | tsu |\n",
    "| 4 | な | na |\n",
    "| 5 | は | ha |\n",
    "| 6 | ま | ma |\n",
    "| 7 | や | ya |\n",
    "| 8 | れ | re |\n",
    "| 9 | を | wo |"
   ]
  },
  {
   "cell_type": "markdown",
   "metadata": {},
   "source": [
    "## TODO: Insert your surname, name and ID number\n",
    "\n",
    "Student surname: Cappelli\n",
    "\n",
    "Student name: Pietro\n",
    "    \n",
    "ID: 2058332"
   ]
  },
  {
   "cell_type": "code",
   "execution_count": 1,
   "metadata": {},
   "outputs": [],
   "source": [
    "#load the required packages\n",
    "\n",
    "%matplotlib inline  \n",
    "\n",
    "import numpy as np\n",
    "import scipy as sp\n",
    "import matplotlib.pyplot as plt\n",
    "\n",
    "import sklearn\n",
    "from sklearn.datasets import fetch_openml\n",
    "from sklearn.neural_network import MLPClassifier\n",
    "from sklearn.decomposition import PCA\n",
    "import sklearn.metrics as skm"
   ]
  },
  {
   "cell_type": "code",
   "execution_count": 2,
   "metadata": {},
   "outputs": [],
   "source": [
    "# helper function to load Kuzushiji-MNIST dataset\n",
    "def load_mnist(path, kind='train'):\n",
    "    import os\n",
    "    import gzip\n",
    "    import numpy as np\n",
    "    labels_path = os.path.join(path, 'K%s-labels-idx1-ubyte.gz' % kind)\n",
    "    images_path = os.path.join(path, 'K%s-images-idx3-ubyte.gz' % kind)\n",
    "    with gzip.open(labels_path, 'rb') as lbpath:\n",
    "        labels = np.frombuffer(lbpath.read(), dtype=np.uint8,offset=8)\n",
    "    with gzip.open(images_path, 'rb') as imgpath:\n",
    "        images = np.frombuffer(imgpath.read(), dtype=np.uint8,offset=16).reshape(len(labels), 784)\n",
    "    return images, labels"
   ]
  },
  {
   "cell_type": "code",
   "execution_count": 3,
   "metadata": {},
   "outputs": [],
   "source": [
    "#fix your ID (\"numero di matricola\") and the seed for random generator (as usual you can try different seeds)\n",
    "ID = 2058332\n",
    "np.random.seed(ID)"
   ]
  },
  {
   "cell_type": "code",
   "execution_count": 4,
   "metadata": {},
   "outputs": [
    {
     "name": "stdout",
     "output_type": "stream",
     "text": [
      "(60000, 784) (60000,)\n"
     ]
    }
   ],
   "source": [
    "#load the K-MNIST dataset from the 'data' folder and let's normalize the features so that each value is in [0,1] \n",
    "\n",
    "X, y = load_mnist('data', kind='train')\n",
    "# rescale the data\n",
    "X, y = X / 255., y # original pixel values are between 0 and 255\n",
    "print(X.shape, y.shape)"
   ]
  },
  {
   "cell_type": "markdown",
   "metadata": {},
   "source": [
    "Now split into training and test. Make sure that each label is present at least 10 times\n",
    "in training. If it is not, then keep adding permutations to the initial data until this \n",
    "happens."
   ]
  },
  {
   "cell_type": "code",
   "execution_count": 5,
   "metadata": {},
   "outputs": [
    {
     "name": "stdout",
     "output_type": "stream",
     "text": [
      "Labels in training dataset:  [0 1 2 3 4 5 6 7 8 9]\n",
      "Frequencies in training dataset:  [62 64 55 57 56 59 57 54 73 63]\n",
      "(600,)\n"
     ]
    }
   ],
   "source": [
    "# Random permute the data and split into training and test taking the first 600\n",
    "# data samples as training and 4000 samples as test\n",
    "permutation = np.random.permutation(X.shape[0])\n",
    "\n",
    "X = X[permutation]\n",
    "y = y[permutation]\n",
    "\n",
    "m_training = 600\n",
    "m_test = 4000\n",
    "\n",
    "X_train, X_test = X[:m_training], X[m_training:m_training+m_test:]\n",
    "y_train, y_test = y[:m_training], y[m_training:m_training+m_test:]\n",
    "\n",
    "labels, freqs = np.unique(y_train, return_counts=True)\n",
    "print(\"Labels in training dataset: \", labels)\n",
    "print(\"Frequencies in training dataset: \", freqs)\n",
    "print(y_train.shape)\n"
   ]
  },
  {
   "cell_type": "code",
   "execution_count": 6,
   "metadata": {},
   "outputs": [],
   "source": [
    "#function for plotting a image and printing the corresponding label\n",
    "def plot_input(X_matrix, labels, index):\n",
    "    print(\"INPUT:\")\n",
    "    plt.imshow(\n",
    "        X_matrix[index].reshape(28,28),\n",
    "        cmap          = plt.cm.gray_r,\n",
    "        interpolation = \"nearest\"\n",
    "    )\n",
    "    plt.show()\n",
    "    print(\"LABEL: %i\"%labels[index])\n",
    "    return"
   ]
  },
  {
   "cell_type": "code",
   "execution_count": 7,
   "metadata": {},
   "outputs": [],
   "source": [
    "#let's try the plotting function\n",
    "# plot_input(X_train,y_train,5)\n",
    "# plot_input(X_test,y_test,50)\n",
    "# plot_input(X_test,y_test,500)\n",
    "# plot_input(X_test,y_test,700)"
   ]
  },
  {
   "cell_type": "markdown",
   "metadata": {},
   "source": [
    "## TO DO 1\n",
    "Use a SVM classifier with cross validation to pick a model. Use a 4-fold cross-validation. Let's start with a Linear kernel:"
   ]
  },
  {
   "cell_type": "code",
   "execution_count": 8,
   "metadata": {},
   "outputs": [
    {
     "name": "stdout",
     "output_type": "stream",
     "text": [
      "RESULTS FOR LINEAR KERNEL\n",
      "Best parameters set found:\n",
      "{'C': 0.1}\n",
      "best estimator found: SVC(C=0.1, class_weight='balanced', kernel='linear')\n",
      "Score with best parameters:\n",
      "0.7383333333333333\n",
      "All scores on the grid:\n",
      "[0.735      0.73833333 0.735      0.735     ]\n"
     ]
    }
   ],
   "source": [
    "#import SVC\n",
    "from sklearn.svm import SVC\n",
    "from sklearn.metrics import classification_report\n",
    "#import for Cross-Validation\n",
    "from sklearn.model_selection import GridSearchCV\n",
    "\n",
    "# parameters for linear SVM\n",
    "parameters = {\"C\": [0.01, 0.1, 1, 10]}\n",
    "\n",
    "#train linear SVM\n",
    "linear = SVC(kernel='linear', class_weight='balanced')\n",
    "# linear.fit(X_train,y_train)\n",
    "# print(linear.n_support_)\n",
    "\n",
    "clf= GridSearchCV(linear, parameters, cv=4)\n",
    "clf.fit(X_train,y_train)\n",
    "# y_pred = clf.predict(X_test)\n",
    "# print('best estimator found:',clf.best_estimator_)\n",
    "# print(classification_report(y_test, y_pred))\n",
    "\n",
    "print ('RESULTS FOR LINEAR KERNEL')\n",
    "print(\"Best parameters set found:\")\n",
    "print(clf.best_params_)\n",
    "print('best estimator found:',clf.best_estimator_)\n",
    "\n",
    "print(\"Score with best parameters:\")\n",
    "print(clf.best_score_)\n",
    "\n",
    "print(\"All scores on the grid:\")\n",
    "print(clf.cv_results_[\"mean_test_score\"])\n",
    "lin_score = clf.best_score_\n"
   ]
  },
  {
   "cell_type": "markdown",
   "metadata": {},
   "source": [
    "## TO DO 2\n",
    "Pick a model for the Polynomial kernel with degree=2:"
   ]
  },
  {
   "cell_type": "code",
   "execution_count": 9,
   "metadata": {},
   "outputs": [
    {
     "name": "stdout",
     "output_type": "stream",
     "text": [
      "RESULTS FOR POLY DEGREE=2 KERNEL\n",
      "Best parameters set found:\n",
      "{'C': 0.1, 'gamma': 0.1}\n",
      "Score with best parameters:\n",
      "0.765\n",
      "\n",
      "All scores on the grid:\n",
      "[0.12166667 0.74833333 0.75833333 0.41666667 0.765      0.75833333\n",
      " 0.74833333 0.75833333 0.75833333]\n",
      "              precision    recall  f1-score   support\n",
      "\n",
      "           0       0.89      0.87      0.88       425\n",
      "           1       0.65      0.80      0.72       377\n",
      "           2       0.71      0.61      0.65       429\n",
      "           3       0.83      0.84      0.84       391\n",
      "           4       0.76      0.68      0.72       386\n",
      "           5       0.89      0.80      0.84       419\n",
      "           6       0.65      0.69      0.67       390\n",
      "           7       0.94      0.82      0.88       377\n",
      "           8       0.72      0.85      0.78       411\n",
      "           9       0.79      0.81      0.80       395\n",
      "\n",
      "    accuracy                           0.78      4000\n",
      "   macro avg       0.78      0.78      0.78      4000\n",
      "weighted avg       0.78      0.78      0.78      4000\n",
      "\n",
      "best estimator found: SVC(C=0.1, degree=2, gamma=0.1, kernel='poly')\n"
     ]
    }
   ],
   "source": [
    "# parameters for poly with degree 2 kernel\n",
    "parameterss = {'C': [0.01, 0.1, 1],'gamma':[0.01,0.1,1]}\n",
    "\n",
    "#run SVM with poly of degree 2 kernel\n",
    "svpoly2 = SVC(kernel='poly', degree=2)\n",
    "\n",
    "clf2= GridSearchCV(svpoly2, parameterss, cv=4)\n",
    "clf2.fit(X_train,y_train)\n",
    "ypoly2_pred = clf2.predict(X_test)\n",
    "print ('RESULTS FOR POLY DEGREE=2 KERNEL')\n",
    "\n",
    "print(\"Best parameters set found:\")\n",
    "# ADD YOUR CODE\n",
    "print(clf2.best_params_)\n",
    "\n",
    "print(\"Score with best parameters:\")\n",
    "# ADD YOUR CODE\n",
    "print(clf2.best_score_)\n",
    "\n",
    "print(\"\\nAll scores on the grid:\")\n",
    "print(clf2.cv_results_[\"mean_test_score\"])\n",
    "\n",
    "print(classification_report(y_test, ypoly2_pred))\n",
    "print('best estimator found:',clf2.best_estimator_)\n",
    "\n",
    "poly2_score = clf2.best_score_\n",
    "\n"
   ]
  },
  {
   "cell_type": "markdown",
   "metadata": {},
   "source": [
    "## TO DO 3\n",
    "\n",
    "Now let's try a higher degree for the polynomial kernel (e.g., 3rd degree)."
   ]
  },
  {
   "cell_type": "code",
   "execution_count": 10,
   "metadata": {},
   "outputs": [
    {
     "name": "stdout",
     "output_type": "stream",
     "text": [
      "RESULTS FOR POLY DEGREE= 5  KERNEL\n",
      "Best parameters set found:\n",
      "{'C': 1, 'gamma': 0.01}\n",
      "Score with best parameters:\n",
      "0.6233333333333333\n",
      "\n",
      "All scores on the grid:\n",
      "[0.12333333 0.59333333 0.58833333 0.26666667 0.58833333 0.58833333\n",
      " 0.62333333 0.58833333 0.58833333]\n",
      "              precision    recall  f1-score   support\n",
      "\n",
      "           0       0.92      0.74      0.82       425\n",
      "           1       0.31      0.88      0.46       377\n",
      "           2       0.60      0.63      0.61       429\n",
      "           3       0.93      0.58      0.72       391\n",
      "           4       0.78      0.56      0.65       386\n",
      "           5       0.86      0.68      0.76       419\n",
      "           6       0.81      0.46      0.58       390\n",
      "           7       0.93      0.68      0.79       377\n",
      "           8       0.69      0.81      0.75       411\n",
      "           9       0.84      0.64      0.73       395\n",
      "\n",
      "    accuracy                           0.67      4000\n",
      "   macro avg       0.77      0.67      0.69      4000\n",
      "weighted avg       0.77      0.67      0.69      4000\n",
      "\n",
      "best estimator found: SVC(C=1, degree=4, gamma=0.01, kernel='poly')\n"
     ]
    }
   ],
   "source": [
    "# parameters for poly with higher degree kernel\n",
    "parameters = {'C': [0.01, 0.1, 1],'gamma':[0.01,0.1,1]}\n",
    "\n",
    "#run SVM with poly of higher degree kernel\n",
    "degree = 5\n",
    "\n",
    "svpoly3 = SVC(kernel='poly', degree=4)\n",
    "\n",
    "clf3= GridSearchCV(svpoly3, parameters, cv=4)\n",
    "clf3.fit(X_train,y_train)\n",
    "ypoly3_pred = clf3.predict(X_test)\n",
    "# ADD YOUR CODE\n",
    "\n",
    "print ('RESULTS FOR POLY DEGREE=', degree, ' KERNEL')\n",
    "\n",
    "print(\"Best parameters set found:\")\n",
    "# ADD YOUR CODE\n",
    "print(clf3.best_params_)\n",
    "\n",
    "print(\"Score with best parameters:\")\n",
    "# ADD YOUR CODE\n",
    "print(clf3.best_score_)\n",
    "\n",
    "print(\"\\nAll scores on the grid:\")\n",
    "# ADD YOUR CODE\n",
    "print(clf3.cv_results_[\"mean_test_score\"])\n",
    "\n",
    "print(classification_report(y_test, ypoly3_pred))\n",
    "print('best estimator found:',clf3.best_estimator_)\n",
    "\n",
    "poly3_score = clf3.best_score_\n"
   ]
  },
  {
   "cell_type": "markdown",
   "metadata": {},
   "source": [
    "## TO DO 4\n",
    "Pick a model for the Radial Basis Function kernel:"
   ]
  },
  {
   "cell_type": "code",
   "execution_count": 11,
   "metadata": {},
   "outputs": [
    {
     "name": "stdout",
     "output_type": "stream",
     "text": [
      "RESULTS FOR rbf KERNEL\n",
      "Best parameters set found:\n",
      "{'C': 10, 'gamma': 0.01}\n",
      "Score with best parameters:\n",
      "0.795\n",
      "\n",
      "All scores on the grid:\n",
      "[0.12166667 0.16666667 0.12166667 0.12166667 0.58       0.78\n",
      " 0.12833333 0.12166667 0.75       0.795      0.135      0.12166667\n",
      " 0.75666667 0.795      0.135      0.12166667]\n"
     ]
    }
   ],
   "source": [
    "# parameters for rbf SVM\n",
    "parameters = {'C': [0.1, 1, 10, 100],'gamma':[0.001, 0.01, 0.1,1]}\n",
    "\n",
    "#run SVM with rbf kernel\n",
    "\n",
    "rbf = SVC(kernel='rbf')\n",
    "clf_rbf= GridSearchCV(rbf, parameters, cv=4)\n",
    "clf_rbf.fit(X_train,y_train)\n",
    "yrbf_pred = clf_rbf.predict(X_test)\n",
    "# ADD YOUR CODE\n",
    "\n",
    "print ('RESULTS FOR rbf KERNEL')\n",
    "\n",
    "print(\"Best parameters set found:\")\n",
    "# ADD YOUR CODE\n",
    "print(clf_rbf.best_params_)\n",
    "\n",
    "print(\"Score with best parameters:\")\n",
    "print(clf_rbf.best_score_)\n",
    "\n",
    "print(\"\\nAll scores on the grid:\")\n",
    "# ADD YOUR CODE\n",
    "print(clf_rbf.cv_results_[\"mean_test_score\"])\n",
    "\n",
    "rbf_score = clf_rbf.best_score_\n"
   ]
  },
  {
   "cell_type": "markdown",
   "metadata": {},
   "source": [
    "## QUESTION 1\n",
    "What do you observe when using linear, polynomial and RBF kernels on this dataset ?\n",
    "\n",
    "\n",
    "The score with the best parameters is similar between the two polinomial kernel and also with the linear one. Between this scores the smaller is always the score with the linear kernel. Then there is an increasing of the values with the degree of the kernel's polinomial. However, the bigger remains the score with rbf kernel (\\tilde 0.8). We aspected this result since we can expand the rbs kernel formula with an infinite sum of polinomials of increasing degree. We choose rbf kernel as the best kernel for this analisis."
   ]
  },
  {
   "cell_type": "code",
   "execution_count": 12,
   "metadata": {},
   "outputs": [
    {
     "name": "stdout",
     "output_type": "stream",
     "text": [
      "the best score of the linear kernel is 0.7383333333333333\n",
      "the best score of the poly2 kernel is 0.765\n",
      "the best score of the poly3 kernel is 0.6233333333333333\n",
      "the best score of the rbf kernel is 0.795\n"
     ]
    }
   ],
   "source": [
    "kernel=[\"linear\", \"poly2\", \"poly3\", \"rbf\"]\n",
    "best_scores = [lin_score, poly2_score, poly3_score, rbf_score]\n",
    "for i in range(4):\n",
    "    print(f'the best score of the {kernel[i]} kernel is {best_scores[i]}')"
   ]
  },
  {
   "cell_type": "markdown",
   "metadata": {},
   "source": [
    "## TO DO 5\n",
    "Report here the best SVM kernel and parameters"
   ]
  },
  {
   "cell_type": "code",
   "execution_count": 13,
   "metadata": {},
   "outputs": [
    {
     "name": "stdout",
     "output_type": "stream",
     "text": [
      "Best SVM training error: 0.000000\n",
      "Best SVM test error: 0.186500\n"
     ]
    }
   ],
   "source": [
    "#get training and test error for the best SVM model from CV\n",
    "best_SVM = SVC(kernel='rbf', C=10, gamma=0.01)\n",
    "# ADD YOUR CODE\n",
    "best_SVM.fit(X_train,y_train)\n",
    "y_pred = best_SVM.predict(X_test)\n",
    "# (error is 1 - svm.score)\n",
    "training_error = 1 - best_SVM.score(X_train,y_train)\n",
    "test_error = 1 - best_SVM.score(X_test,y_test)\n",
    "\n",
    "print (\"Best SVM training error: %f\" % training_error)\n",
    "print (\"Best SVM test error: %f\" % test_error)"
   ]
  },
  {
   "cell_type": "markdown",
   "metadata": {},
   "source": [
    "## TO DO 6\n",
    "\n",
    "Analyze how the gamma parameter (inversely proportional to standard deviation of Gaussian Kernel) impact the performances of the classifier"
   ]
  },
  {
   "cell_type": "code",
   "execution_count": 14,
   "metadata": {},
   "outputs": [
    {
     "name": "stdout",
     "output_type": "stream",
     "text": [
      "[1.e-05 1.e-04 1.e-03 1.e-02 1.e-01 1.e+00 1.e+01 1.e+02]\n"
     ]
    }
   ],
   "source": [
    "#Test with different values of gamma\n",
    "\n",
    "# Set gamma values\n",
    "gamma_values = np.logspace(-5,2,8)\n",
    "print(gamma_values)\n"
   ]
  },
  {
   "cell_type": "code",
   "execution_count": 15,
   "metadata": {},
   "outputs": [
    {
     "data": {
      "image/png": "[encoded data removed]",
      "text/plain": [
       "<Figure size 1080x360 with 2 Axes>"
      ]
     },
     "metadata": {
      "needs_background": "light"
     },
     "output_type": "display_data"
    }
   ],
   "source": [
    "# Try the SVM with the previously set values of gamma\n",
    "# use rbf kernel and C=1\n",
    "\n",
    "train_acc_list, test_acc_list = [], []\n",
    "\n",
    "    \n",
    "# ADD YOUR CODE TO TRAIN THE SVM MULTIPLE TIMES WITH THE DIFFERENT VALUES OF GAMMA\n",
    "# PLACE THE TRAIN AND TEST ACCURACY FOR EACH TEST IN THE TRAIN AND TEST ACCURACY LISTS\n",
    "\n",
    "for i in gamma_values:\n",
    "    svm = SVC(kernel='rbf', C=1, gamma=i)\n",
    "    svm.fit(X_train,y_train)\n",
    "    train_acc_list.append(svm.score(X_train,y_train))\n",
    "    test_acc_list.append(svm.score(X_test,y_test))\n",
    "\n",
    "# Plot\n",
    "fig, ax = plt.subplots(1,2, figsize=(15,5))\n",
    "\n",
    "ax[0].plot(gamma_values, train_acc_list)\n",
    "ax[0].set_xscale('log')\n",
    "ax[0].set_xlabel('gamma')\n",
    "ax[0].set_ylabel('Train accuracy')\n",
    "ax[0].grid(True)\n",
    "\n",
    "ax[1].plot(gamma_values, test_acc_list)\n",
    "ax[1].set_xscale('log')\n",
    "ax[1].set_xlabel('gamma')\n",
    "ax[1].set_ylabel('Test accuracy')\n",
    "ax[1].grid(True)\n",
    "\n",
    "\n",
    "plt.show()"
   ]
  },
  {
   "cell_type": "markdown",
   "metadata": {},
   "source": [
    "## QUESTION 2\n",
    "How do the train and test error change when changing gamma ? Which is the best value of gamma ? \n",
    "Connect your answers to the discussion about the overfitting issue.\n",
    "\n",
    "This two graphic show the accuracy on the train and test set.\n",
    "About train accuracy, the curve reach the maximum for values of gamma >= 0.1. However, looking at the test accuracy, the best value is when gamma is 0.01. So the best gamma is set on 0.01 since is the best value in common between the two accuracy. \n",
    "From the test accuracy graphic we can note that we have an overfitting issue since at value of gamma=0.1 or 1 (corresponding to the optimal solution of train acc.) the test acc decrease on values of \\tilde 0."
   ]
  },
  {
   "cell_type": "markdown",
   "metadata": {},
   "source": [
    "## More data\n",
    "Now let's do the same but using more data points for training.\n",
    "\n",
    "\n",
    "Choose a new number of data points."
   ]
  },
  {
   "cell_type": "code",
   "execution_count": 16,
   "metadata": {},
   "outputs": [
    {
     "name": "stdout",
     "output_type": "stream",
     "text": [
      "Labels in training dataset:  [0 1 2 3 4 5 6 7 8 9]\n",
      "Frequencies in training dataset:  [196 181 210 196 226 176 190 214 225 186]\n"
     ]
    }
   ],
   "source": [
    "X = X[permutation]\n",
    "y = y[permutation]\n",
    "\n",
    "m_training = 2000 # TODO number of data points, adjust depending on the capabilities of your PC\n",
    "\n",
    "X_train, X_test = X[:m_training], X[m_training:]\n",
    "y_train, y_test = y[:m_training], y[m_training:]\n",
    "\n",
    "labels, freqs = np.unique(y_train, return_counts=True)\n",
    "print(\"Labels in training dataset: \", labels)\n",
    "print(\"Frequencies in training dataset: \", freqs)\n"
   ]
  },
  {
   "cell_type": "markdown",
   "metadata": {},
   "source": [
    "## TO DO 7\n",
    "\n",
    "Let's try to use SVM with parameters obtained from the best model for $m_{training} =  2000$. Since it may take a long time to run, you can decide to just let it run for some time and stop it if it does not complete. If you decide to do this, report it in the cell below."
   ]
  },
  {
   "cell_type": "code",
   "execution_count": null,
   "metadata": {
    "scrolled": true
   },
   "outputs": [],
   "source": [
    "#get training and test error for the best SVM model from CV\n",
    "best_SVM = SVC(kernel='rbf', C=10, gamma=0.01)\n",
    "best_SVM.fit(X_train,y_train)\n",
    "# (error is 1 - svm.score)\n",
    "training_error = 1 - best_SVM.score(X_train,y_train)\n",
    "test_error = 1 - best_SVM.score(X_test,y_test)\n",
    "\n",
    "# ADD YOUR CODE\n",
    "\n",
    "print (\"Best SVM training error: %f\" % training_error)\n",
    "print (\"Best SVM test error: %f\" % test_error)"
   ]
  },
  {
   "cell_type": "markdown",
   "metadata": {},
   "source": [
    "Just for comparison, let's also use logistic regression \n",
    "\n",
    "## TO DO 8 Try first without regularization (use a very large large C)¶"
   ]
  },
  {
   "cell_type": "code",
   "execution_count": null,
   "metadata": {},
   "outputs": [],
   "source": [
    "from sklearn import linear_model\n",
    "\n",
    "# ADD YOUR CODE\n",
    "lgr = linear_model.LogisticRegression(C=1e15, max_iter=1000)\n",
    "lgr.fit(X_train,y_train)\n",
    "\n",
    "training_error = 1 - lgr.score(X_train,y_train)\n",
    "test_error = 1 - lgr.score(X_test,y_test)\n",
    "\n",
    "print (\"Best logistic regression training error: %f\" % training_error)\n",
    "print (\"Best logistic regression test error: %f\" % test_error)"
   ]
  },
  {
   "cell_type": "markdown",
   "metadata": {},
   "source": [
    "## TO DO 9 Try  with regularization (use C=1)¶"
   ]
  },
  {
   "cell_type": "code",
   "execution_count": null,
   "metadata": {},
   "outputs": [],
   "source": [
    "# ADD YOUR CODE\n",
    "lgr2 = linear_model.LogisticRegression(C=1, max_iter=1000)\n",
    "lgr2.fit(X_train,y_train)\n",
    "\n",
    "training_error = 1 - lgr2.score(X_train,y_train)\n",
    "test_error = 1 - lgr2.score(X_test,y_test)\n",
    "\n",
    "print (\"Best regularized logistic regression training error: %f\" % training_error)\n",
    "print (\"Best regularized logistic regression test error: %f\" % test_error)"
   ]
  },
  {
   "cell_type": "markdown",
   "metadata": {},
   "source": [
    "## QUESTION 3\n",
    "Compare and discuss:\n",
    "- the results from SVM with m=600 and with m=2000 training data points. If you stopped the SVM, include such aspect in your comparison.\n",
    "- the results of SVM and of Logistic Regression\n",
    "\n",
    "a) Following there are show the results of the test error with m=600,2000 training data point:\n",
    "- m=600   => test error = 0.186500 \n",
    "- m=2000  => test error = 0.114362\n",
    "\n",
    "As expected, the test error using a larger training set is better. This result is expected because the machine is \"more trained\" so it has more accuracy on predicting the data.\n",
    "\n",
    "b) the test error with Logistic regression are 0.29 without regolarization and 0.25 with reg. Both of them are worst than the result with SVM (0.11)."
   ]
  },
  {
   "cell_type": "markdown",
   "metadata": {},
   "source": [
    "## TO DO 10\n",
    "Plot an item of clothing that is missclassified by logistic regression and correctly classified by SVM."
   ]
  },
  {
   "cell_type": "code",
   "execution_count": null,
   "metadata": {},
   "outputs": [],
   "source": [
    "best_SVM = SVC(kernel='rbf', C=10, gamma=0.01)\n",
    "best_SVM.fit(X_train,y_train)\n",
    "\n",
    "lgr2 = linear_model.LogisticRegression(C=1, max_iter=1000)\n",
    "lgr2.fit(X_train,y_train)\n",
    "\n",
    "\n",
    "LR_prediction = lgr2.predict(X_test)\n",
    "SVM_prediction = best_SVM.predict(X_test)\n",
    "\n",
    "# ADD CODE\n",
    "LR_misclass, SVM_misclass = [], []\n",
    "lista = []\n",
    "\n",
    "print(LR_prediction)\n",
    "print(SVM_prediction)\n",
    "print(y_test)\n",
    "\n",
    "for i in range(len(y_test)):\n",
    "    if(LR_prediction[i] != y_test[i] and SVM_prediction[i] == y_test[i]):\n",
    "        lista.append(i)\n",
    "i=0\n",
    "flag=True\n",
    "# while(flag==True and i<len(y_test)):\n",
    "#     if(LR_prediction[i] != y_test[i] and SVM_prediction[i] == y_test[i]):\n",
    "#         plot_input(X_test,y_test,i)\n",
    "#         flag=False\n",
    "#     i+=1\n",
    "    \n",
    "# print(lista)\n",
    "plot_input(X_test, y_test, lista[0])\n",
    "#invece che printare il 0 potrei fare printare uno scelto random\n",
    "\n"
   ]
  },
  {
   "cell_type": "markdown",
   "metadata": {},
   "source": [
    "## TO DO 11\n",
    "Plot the confusion matrix for the SVM classifier and for logistic regression.\n",
    "The confusion matrix has one column for each predicted label and one row for each true label. \n",
    "It shows for each class in the corresponding row how many samples belonging to that class gets each possible output label.\n",
    "Notice that the diagonal contains the correctly classified samples, while the other cells correspond to errors.\n",
    "You can obtain it with the sklearn.metrics.confusion_matrix function (see the documentation).\n",
    "Try also to normalize the confusion matrix by the number of samples in each class in order to measure the accuracy on each single class.\n"
   ]
  },
  {
   "cell_type": "code",
   "execution_count": null,
   "metadata": {},
   "outputs": [],
   "source": [
    "np.set_printoptions(precision=2, suppress=True) # for better aligned printing of confusion matrix use floatmode='fixed'\n",
    "\n",
    "LR_prediction = lgr2.predict(X_test)\n",
    "SVM_prediction = best_SVM.predict(X_test)\n",
    "u, counts = np.unique(y_test, return_counts=True)\n",
    "print(\"Labels and frequencies in test set: \", counts)\n",
    "\n",
    "confusion_SVM = skm.confusion_matrix(y_test, SVM_prediction)\n",
    "print(\"\\n Confusion matrix SVM  \\n \\n\", confusion_SVM)\n",
    "print(\"\\n Confusion matrix SVM (normalized)   \\n \\n\", confusion_SVM /counts[:,None] )\n",
    "\n",
    "confusion_LR =  skm.confusion_matrix(y_test, LR_prediction)\n",
    "print(\"\\n Confusion matrix LR  \\n \\n\", confusion_LR)\n",
    "print(\"\\n Confusion matrix LR (normalized)   \\n \\n\", confusion_LR /counts[:,None] )"
   ]
  },
  {
   "cell_type": "code",
   "execution_count": null,
   "metadata": {},
   "outputs": [],
   "source": [
    "# ADD CODE TO NORMALIZE CONFUSION MATRIX AND PRINT THE NORMALIZED MATRIX\n",
    "confusion_SVM_norm = skm.confusion_matrix(y_test, SVM_prediction, normalize='true')\n",
    "print(\"\\n Confusion matrix SVM  \\n \\n\", confusion_SVM_norm)\n",
    "\n",
    "confusion_LR_norm =  skm.confusion_matrix(y_test, LR_prediction, normalize='true')\n",
    "print(\"\\n Confusion matrix LR  \\n \\n\", confusion_LR_norm)\n",
    "\n",
    "# from sklearn.metrics import plot_confusion_matrix\n",
    "# plot_confusion_matrix(best_SVM, X_test, y_test, normalize='true')\n",
    "# plt.show()\n",
    "\n",
    "from sklearn.metrics import ConfusionMatrixDisplay\n",
    "# disp = ConfusionMatrixDisplay.from_estimator(best_SVM, X_test, y_test, display_labels=labels, cmap=plt.cm.Blues, normalize=\"true\")\n",
    "# print(disp.confusion_matrix)\n",
    "# plt.show()\n",
    "\n",
    "# disp1 = ConfusionMatrixDisplay(confusion_matrix=cm1, display_labels=best_SVM.classes_)\n",
    "# disp2 = ConfusionMatrixDisplay(confusion_matrix=cm2, display_labels=best_SVM.classes_)\n",
    "\n",
    "# disp1.plot()\n",
    "# disp2.plot()\n",
    "\n",
    "A = ConfusionMatrixDisplay(confusion_matrix=confusion_SVM, display_labels=best_SVM.classes_).plot()\n",
    "ConfusionMatrixDisplay(confusion_matrix=confusion_SVM_norm, display_labels=best_SVM.classes_).plot()\n",
    "ConfusionMatrixDisplay(confusion_matrix=confusion_LR, display_labels=best_SVM.classes_).plot()\n",
    "ConfusionMatrixDisplay(confusion_matrix=confusion_LR_norm, display_labels=best_SVM.classes_).plot()\n",
    "\n",
    "plt.rcParams[\"figure.figsize\"]=5,5\n",
    "plt.show()\n"
   ]
  },
  {
   "cell_type": "markdown",
   "metadata": {},
   "source": [
    "## QUESTION 4\n",
    "Have a look at the confusion matrices and comment on the obtained accuracies. Why some classes have lower accuracies and others an higher one ? Make some guesses on the possible causes.\n",
    "\n",
    "\n",
    "In the confusion matrix we can visualize the accuracy of the algorithm in predicting the test set. In particularly we can see what label the machine predict for the samples. Obviously the entries of the diagonal are bigger than the other since they represent how many sample are correcly classified. However there are some entries out of the diagonal which are bigger than the other. For example, (2,6) or (3,5) or (6,2). It may depends on how similar are the japanese letters from the machine's point of view and so it (or she) confuses, for example, the sixth letter with the second.\n",
    "\n",
    "PS: In the last plot the color help to visualize the concept explained in the answer"
   ]
  }
 ],
 "metadata": {
  "kernelspec": {
   "display_name": "Python 3",
   "language": "python",
   "name": "python3"
  },
  "language_info": {
   "codemirror_mode": {
    "name": "ipython",
    "version": 3
   },
   "file_extension": ".py",
   "mimetype": "text/x-python",
   "name": "python",
   "nbconvert_exporter": "python",
   "pygments_lexer": "ipython3",
   "version": "3.8.10"
  }
 },
 "nbformat": 4,
 "nbformat_minor": 4
}
